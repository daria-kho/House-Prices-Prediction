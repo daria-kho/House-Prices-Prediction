{
 "cells": [
  {
   "cell_type": "markdown",
   "metadata": {},
   "source": [
    "# Predicting House Sale Prices\n",
    "\n",
    "In this project I will use Line Regression model to try and predict prices of houses. I will work with housing data for the city of Ames, Iowa, United States from 2006 to 2010. You can read more about why the data was collected [here](https://www.tandfonline.com/doi/abs/10.1080/10691898.2011.11889627). The information about the columns in the dataset is available [here](https://s3.amazonaws.com/dq-content/307/data_description.txt).\n",
    "\n",
    "For this project I will try to build a complete pipeline of three functions that\n",
    "- take a dataset and clean it from missing values, \n",
    "- select the appropriate features, \n",
    "- and then train and test the Linear Regression model. "
   ]
  },
  {
   "cell_type": "code",
   "execution_count": 220,
   "metadata": {
    "collapsed": false
   },
   "outputs": [],
   "source": [
    "import pandas as pd\n",
    "import numpy as np\n",
    "import matplotlib.pyplot as plt\n",
    "import seaborn as sns\n",
    "from sklearn.linear_model import LinearRegression\n",
    "from sklearn.metrics import mean_squared_error\n",
    "from sklearn.model_selection import cross_val_score, KFold\n",
    "%matplotlib inline"
   ]
  },
  {
   "cell_type": "code",
   "execution_count": 281,
   "metadata": {
    "collapsed": false
   },
   "outputs": [
    {
     "data": {
      "text/html": [
       "<div>\n",
       "<style scoped>\n",
       "    .dataframe tbody tr th:only-of-type {\n",
       "        vertical-align: middle;\n",
       "    }\n",
       "\n",
       "    .dataframe tbody tr th {\n",
       "        vertical-align: top;\n",
       "    }\n",
       "\n",
       "    .dataframe thead th {\n",
       "        text-align: right;\n",
       "    }\n",
       "</style>\n",
       "<table border=\"1\" class=\"dataframe\">\n",
       "  <thead>\n",
       "    <tr style=\"text-align: right;\">\n",
       "      <th></th>\n",
       "      <th>Order</th>\n",
       "      <th>PID</th>\n",
       "      <th>MS SubClass</th>\n",
       "      <th>MS Zoning</th>\n",
       "      <th>Lot Frontage</th>\n",
       "      <th>Lot Area</th>\n",
       "      <th>Street</th>\n",
       "      <th>Alley</th>\n",
       "      <th>Lot Shape</th>\n",
       "      <th>Land Contour</th>\n",
       "      <th>...</th>\n",
       "      <th>Pool Area</th>\n",
       "      <th>Pool QC</th>\n",
       "      <th>Fence</th>\n",
       "      <th>Misc Feature</th>\n",
       "      <th>Misc Val</th>\n",
       "      <th>Mo Sold</th>\n",
       "      <th>Yr Sold</th>\n",
       "      <th>Sale Type</th>\n",
       "      <th>Sale Condition</th>\n",
       "      <th>SalePrice</th>\n",
       "    </tr>\n",
       "  </thead>\n",
       "  <tbody>\n",
       "    <tr>\n",
       "      <th>0</th>\n",
       "      <td>1</td>\n",
       "      <td>526301100</td>\n",
       "      <td>20</td>\n",
       "      <td>RL</td>\n",
       "      <td>141.0</td>\n",
       "      <td>31770</td>\n",
       "      <td>Pave</td>\n",
       "      <td>NaN</td>\n",
       "      <td>IR1</td>\n",
       "      <td>Lvl</td>\n",
       "      <td>...</td>\n",
       "      <td>0</td>\n",
       "      <td>NaN</td>\n",
       "      <td>NaN</td>\n",
       "      <td>NaN</td>\n",
       "      <td>0</td>\n",
       "      <td>5</td>\n",
       "      <td>2010</td>\n",
       "      <td>WD</td>\n",
       "      <td>Normal</td>\n",
       "      <td>215000</td>\n",
       "    </tr>\n",
       "    <tr>\n",
       "      <th>1</th>\n",
       "      <td>2</td>\n",
       "      <td>526350040</td>\n",
       "      <td>20</td>\n",
       "      <td>RH</td>\n",
       "      <td>80.0</td>\n",
       "      <td>11622</td>\n",
       "      <td>Pave</td>\n",
       "      <td>NaN</td>\n",
       "      <td>Reg</td>\n",
       "      <td>Lvl</td>\n",
       "      <td>...</td>\n",
       "      <td>0</td>\n",
       "      <td>NaN</td>\n",
       "      <td>MnPrv</td>\n",
       "      <td>NaN</td>\n",
       "      <td>0</td>\n",
       "      <td>6</td>\n",
       "      <td>2010</td>\n",
       "      <td>WD</td>\n",
       "      <td>Normal</td>\n",
       "      <td>105000</td>\n",
       "    </tr>\n",
       "    <tr>\n",
       "      <th>2</th>\n",
       "      <td>3</td>\n",
       "      <td>526351010</td>\n",
       "      <td>20</td>\n",
       "      <td>RL</td>\n",
       "      <td>81.0</td>\n",
       "      <td>14267</td>\n",
       "      <td>Pave</td>\n",
       "      <td>NaN</td>\n",
       "      <td>IR1</td>\n",
       "      <td>Lvl</td>\n",
       "      <td>...</td>\n",
       "      <td>0</td>\n",
       "      <td>NaN</td>\n",
       "      <td>NaN</td>\n",
       "      <td>Gar2</td>\n",
       "      <td>12500</td>\n",
       "      <td>6</td>\n",
       "      <td>2010</td>\n",
       "      <td>WD</td>\n",
       "      <td>Normal</td>\n",
       "      <td>172000</td>\n",
       "    </tr>\n",
       "    <tr>\n",
       "      <th>3</th>\n",
       "      <td>4</td>\n",
       "      <td>526353030</td>\n",
       "      <td>20</td>\n",
       "      <td>RL</td>\n",
       "      <td>93.0</td>\n",
       "      <td>11160</td>\n",
       "      <td>Pave</td>\n",
       "      <td>NaN</td>\n",
       "      <td>Reg</td>\n",
       "      <td>Lvl</td>\n",
       "      <td>...</td>\n",
       "      <td>0</td>\n",
       "      <td>NaN</td>\n",
       "      <td>NaN</td>\n",
       "      <td>NaN</td>\n",
       "      <td>0</td>\n",
       "      <td>4</td>\n",
       "      <td>2010</td>\n",
       "      <td>WD</td>\n",
       "      <td>Normal</td>\n",
       "      <td>244000</td>\n",
       "    </tr>\n",
       "    <tr>\n",
       "      <th>4</th>\n",
       "      <td>5</td>\n",
       "      <td>527105010</td>\n",
       "      <td>60</td>\n",
       "      <td>RL</td>\n",
       "      <td>74.0</td>\n",
       "      <td>13830</td>\n",
       "      <td>Pave</td>\n",
       "      <td>NaN</td>\n",
       "      <td>IR1</td>\n",
       "      <td>Lvl</td>\n",
       "      <td>...</td>\n",
       "      <td>0</td>\n",
       "      <td>NaN</td>\n",
       "      <td>MnPrv</td>\n",
       "      <td>NaN</td>\n",
       "      <td>0</td>\n",
       "      <td>3</td>\n",
       "      <td>2010</td>\n",
       "      <td>WD</td>\n",
       "      <td>Normal</td>\n",
       "      <td>189900</td>\n",
       "    </tr>\n",
       "  </tbody>\n",
       "</table>\n",
       "<p>5 rows × 82 columns</p>\n",
       "</div>"
      ],
      "text/plain": [
       "   Order        PID  MS SubClass MS Zoning  Lot Frontage  Lot Area Street  \\\n",
       "0      1  526301100           20        RL         141.0     31770   Pave   \n",
       "1      2  526350040           20        RH          80.0     11622   Pave   \n",
       "2      3  526351010           20        RL          81.0     14267   Pave   \n",
       "3      4  526353030           20        RL          93.0     11160   Pave   \n",
       "4      5  527105010           60        RL          74.0     13830   Pave   \n",
       "\n",
       "  Alley Lot Shape Land Contour  ... Pool Area Pool QC  Fence Misc Feature  \\\n",
       "0   NaN       IR1          Lvl  ...         0     NaN    NaN          NaN   \n",
       "1   NaN       Reg          Lvl  ...         0     NaN  MnPrv          NaN   \n",
       "2   NaN       IR1          Lvl  ...         0     NaN    NaN         Gar2   \n",
       "3   NaN       Reg          Lvl  ...         0     NaN    NaN          NaN   \n",
       "4   NaN       IR1          Lvl  ...         0     NaN  MnPrv          NaN   \n",
       "\n",
       "  Misc Val Mo Sold Yr Sold Sale Type  Sale Condition  SalePrice  \n",
       "0        0       5    2010       WD           Normal     215000  \n",
       "1        0       6    2010       WD           Normal     105000  \n",
       "2    12500       6    2010       WD           Normal     172000  \n",
       "3        0       4    2010       WD           Normal     244000  \n",
       "4        0       3    2010       WD           Normal     189900  \n",
       "\n",
       "[5 rows x 82 columns]"
      ]
     },
     "execution_count": 281,
     "metadata": {},
     "output_type": "execute_result"
    }
   ],
   "source": [
    "data = pd.read_csv('AmesHousing.tsv', sep='\\t')\n",
    "data.head()"
   ]
  },
  {
   "cell_type": "code",
   "execution_count": 288,
   "metadata": {},
   "outputs": [
    {
     "name": "stdout",
     "output_type": "stream",
     "text": [
      "<class 'pandas.core.frame.DataFrame'>\n",
      "RangeIndex: 2930 entries, 0 to 2929\n",
      "Data columns (total 82 columns):\n",
      " #   Column           Non-Null Count  Dtype  \n",
      "---  ------           --------------  -----  \n",
      " 0   Order            2930 non-null   int64  \n",
      " 1   PID              2930 non-null   int64  \n",
      " 2   MS SubClass      2930 non-null   int64  \n",
      " 3   MS Zoning        2930 non-null   object \n",
      " 4   Lot Frontage     2440 non-null   float64\n",
      " 5   Lot Area         2930 non-null   int64  \n",
      " 6   Street           2930 non-null   object \n",
      " 7   Alley            198 non-null    object \n",
      " 8   Lot Shape        2930 non-null   object \n",
      " 9   Land Contour     2930 non-null   object \n",
      " 10  Utilities        2930 non-null   object \n",
      " 11  Lot Config       2930 non-null   object \n",
      " 12  Land Slope       2930 non-null   object \n",
      " 13  Neighborhood     2930 non-null   object \n",
      " 14  Condition 1      2930 non-null   object \n",
      " 15  Condition 2      2930 non-null   object \n",
      " 16  Bldg Type        2930 non-null   object \n",
      " 17  House Style      2930 non-null   object \n",
      " 18  Overall Qual     2930 non-null   int64  \n",
      " 19  Overall Cond     2930 non-null   int64  \n",
      " 20  Year Built       2930 non-null   int64  \n",
      " 21  Year Remod/Add   2930 non-null   int64  \n",
      " 22  Roof Style       2930 non-null   object \n",
      " 23  Roof Matl        2930 non-null   object \n",
      " 24  Exterior 1st     2930 non-null   object \n",
      " 25  Exterior 2nd     2930 non-null   object \n",
      " 26  Mas Vnr Type     2907 non-null   object \n",
      " 27  Mas Vnr Area     2907 non-null   float64\n",
      " 28  Exter Qual       2930 non-null   object \n",
      " 29  Exter Cond       2930 non-null   object \n",
      " 30  Foundation       2930 non-null   object \n",
      " 31  Bsmt Qual        2850 non-null   object \n",
      " 32  Bsmt Cond        2850 non-null   object \n",
      " 33  Bsmt Exposure    2847 non-null   object \n",
      " 34  BsmtFin Type 1   2850 non-null   object \n",
      " 35  BsmtFin SF 1     2929 non-null   float64\n",
      " 36  BsmtFin Type 2   2849 non-null   object \n",
      " 37  BsmtFin SF 2     2929 non-null   float64\n",
      " 38  Bsmt Unf SF      2929 non-null   float64\n",
      " 39  Total Bsmt SF    2929 non-null   float64\n",
      " 40  Heating          2930 non-null   object \n",
      " 41  Heating QC       2930 non-null   object \n",
      " 42  Central Air      2930 non-null   object \n",
      " 43  Electrical       2929 non-null   object \n",
      " 44  1st Flr SF       2930 non-null   int64  \n",
      " 45  2nd Flr SF       2930 non-null   int64  \n",
      " 46  Low Qual Fin SF  2930 non-null   int64  \n",
      " 47  Gr Liv Area      2930 non-null   int64  \n",
      " 48  Bsmt Full Bath   2928 non-null   float64\n",
      " 49  Bsmt Half Bath   2928 non-null   float64\n",
      " 50  Full Bath        2930 non-null   int64  \n",
      " 51  Half Bath        2930 non-null   int64  \n",
      " 52  Bedroom AbvGr    2930 non-null   int64  \n",
      " 53  Kitchen AbvGr    2930 non-null   int64  \n",
      " 54  Kitchen Qual     2930 non-null   object \n",
      " 55  TotRms AbvGrd    2930 non-null   int64  \n",
      " 56  Functional       2930 non-null   object \n",
      " 57  Fireplaces       2930 non-null   int64  \n",
      " 58  Fireplace Qu     1508 non-null   object \n",
      " 59  Garage Type      2773 non-null   object \n",
      " 60  Garage Yr Blt    2771 non-null   float64\n",
      " 61  Garage Finish    2771 non-null   object \n",
      " 62  Garage Cars      2929 non-null   float64\n",
      " 63  Garage Area      2929 non-null   float64\n",
      " 64  Garage Qual      2771 non-null   object \n",
      " 65  Garage Cond      2771 non-null   object \n",
      " 66  Paved Drive      2930 non-null   object \n",
      " 67  Wood Deck SF     2930 non-null   int64  \n",
      " 68  Open Porch SF    2930 non-null   int64  \n",
      " 69  Enclosed Porch   2930 non-null   int64  \n",
      " 70  3Ssn Porch       2930 non-null   int64  \n",
      " 71  Screen Porch     2930 non-null   int64  \n",
      " 72  Pool Area        2930 non-null   int64  \n",
      " 73  Pool QC          13 non-null     object \n",
      " 74  Fence            572 non-null    object \n",
      " 75  Misc Feature     106 non-null    object \n",
      " 76  Misc Val         2930 non-null   int64  \n",
      " 77  Mo Sold          2930 non-null   int64  \n",
      " 78  Yr Sold          2930 non-null   int64  \n",
      " 79  Sale Type        2930 non-null   object \n",
      " 80  Sale Condition   2930 non-null   object \n",
      " 81  SalePrice        2930 non-null   int64  \n",
      "dtypes: float64(11), int64(28), object(43)\n",
      "memory usage: 1.8+ MB\n"
     ]
    }
   ],
   "source": [
    "data.info()"
   ]
  },
  {
   "cell_type": "markdown",
   "metadata": {},
   "source": [
    "Below is the initial skeleton form of the functions:"
   ]
  },
  {
   "cell_type": "code",
   "execution_count": 222,
   "metadata": {
    "collapsed": true
   },
   "outputs": [
    {
     "data": {
      "text/plain": [
       "57088.25161263909"
      ]
     },
     "execution_count": 222,
     "metadata": {},
     "output_type": "execute_result"
    }
   ],
   "source": [
    "def transform_features(df):\n",
    "    \"\"\"\n",
    "    Returns the same df\n",
    "    \"\"\"\n",
    "    return df\n",
    "\n",
    "def select_features(df):\n",
    "    \"\"\"\n",
    "    Returns the Gr Liv Area and SalePrice columns \n",
    "    from the train data frame\n",
    "    \"\"\"\n",
    "    selected = df[['Gr Liv Area', 'SalePrice']]\n",
    "    return selected\n",
    "\n",
    "def train_and_test(df):\n",
    "    \"\"\"\n",
    "    Trains a model using all numerical columns except the SalePrice column (the target column) from the data frame returned from select_features()\n",
    "    Tests the model on the test set and returns the RMSE value\n",
    "    \"\"\"\n",
    "    train = df[:1460]\n",
    "    test = df[1460:]\n",
    "    numerical_cols = list(train.select_dtypes(include='int').columns)\n",
    "    numerical_cols.remove('SalePrice')\n",
    "    target = 'SalePrice'\n",
    "    lr = LinearRegression()\n",
    "    lr.fit(train[numerical_cols], train[target])\n",
    "    predictions = lr.predict(test[numerical_cols])\n",
    "    rmse = np.sqrt(mean_squared_error(test[target], predictions))\n",
    "    return rmse\n",
    "\n",
    "transform_df = transform_features(data)\n",
    "filtered_df = select_features(transform_df)\n",
    "rmse = train_and_test(filtered_df)\n",
    "\n",
    "rmse"
   ]
  },
  {
   "cell_type": "markdown",
   "metadata": {
    "collapsed": true
   },
   "source": [
    "## Feature Transformation\n",
    "\n",
    "We will experiment with the data to update `transform_features()` function so that it cleans the dataset in the following way:\n",
    "- Drop rowns that have more than 5% of missing values;\n",
    "- Fill the missing values in the rest of the columns with the column's mode (the most popular value);\n",
    "- Create new more informative features by combining other features;\n",
    "- Drop any columns that leak information about house sales. "
   ]
  },
  {
   "cell_type": "code",
   "execution_count": 223,
   "metadata": {},
   "outputs": [
    {
     "data": {
      "text/plain": [
       "Bsmt Exposure     83\n",
       "BsmtFin Type 2    81\n",
       "Bsmt Cond         80\n",
       "Bsmt Qual         80\n",
       "BsmtFin Type 1    80\n",
       "                  ..\n",
       "Exter Cond         0\n",
       "Foundation         0\n",
       "PID                0\n",
       "Heating            0\n",
       "SalePrice          0\n",
       "Length: 71, dtype: int64"
      ]
     },
     "execution_count": 223,
     "metadata": {},
     "output_type": "execute_result"
    }
   ],
   "source": [
    "clean_data = data.copy()\n",
    "\n",
    "#Dropping columns that have more than 5% of missing data\n",
    "data_nulls = clean_data.isnull().sum()\n",
    "cols_to_remove = data_nulls[data_nulls>=len(data)*0.05].index\n",
    "clean_data = clean_data.drop(cols_to_remove, axis=1)\n",
    "clean_data.isnull().sum().sort_values(ascending=False)"
   ]
  },
  {
   "cell_type": "code",
   "execution_count": 224,
   "metadata": {},
   "outputs": [
    {
     "name": "stdout",
     "output_type": "stream",
     "text": [
      "<class 'pandas.core.frame.DataFrame'>\n",
      "RangeIndex: 2930 entries, 0 to 2929\n",
      "Data columns (total 16 columns):\n",
      " #   Column          Non-Null Count  Dtype  \n",
      "---  ------          --------------  -----  \n",
      " 0   Mas Vnr Type    2907 non-null   object \n",
      " 1   Mas Vnr Area    2907 non-null   float64\n",
      " 2   Bsmt Qual       2850 non-null   object \n",
      " 3   Bsmt Cond       2850 non-null   object \n",
      " 4   Bsmt Exposure   2847 non-null   object \n",
      " 5   BsmtFin Type 1  2850 non-null   object \n",
      " 6   BsmtFin SF 1    2929 non-null   float64\n",
      " 7   BsmtFin Type 2  2849 non-null   object \n",
      " 8   BsmtFin SF 2    2929 non-null   float64\n",
      " 9   Bsmt Unf SF     2929 non-null   float64\n",
      " 10  Total Bsmt SF   2929 non-null   float64\n",
      " 11  Electrical      2929 non-null   object \n",
      " 12  Bsmt Full Bath  2928 non-null   float64\n",
      " 13  Bsmt Half Bath  2928 non-null   float64\n",
      " 14  Garage Cars     2929 non-null   float64\n",
      " 15  Garage Area     2929 non-null   float64\n",
      "dtypes: float64(9), object(7)\n",
      "memory usage: 366.4+ KB\n"
     ]
    }
   ],
   "source": [
    "#In columns with less than 5% missing data, fill the missing data with the column's mode\n",
    "data_nulls = clean_data.isnull().sum()\n",
    "selected_cols = data_nulls[(data_nulls < len(clean_data)*0.05)&(data_nulls>0)].index\n",
    "clean_data.fillna(clean_data[selected_cols].mode(), inplace=True)\n",
    "clean_data[selected_cols].info()"
   ]
  },
  {
   "cell_type": "markdown",
   "metadata": {},
   "source": [
    "It looks like for some columns there are several modes, so we will have to use a slightly more complex way of filling the NaN values. "
   ]
  },
  {
   "cell_type": "code",
   "execution_count": 225,
   "metadata": {},
   "outputs": [
    {
     "data": {
      "text/plain": [
       "{'Mas Vnr Type': 'None',\n",
       " 'Mas Vnr Area': 0.0,\n",
       " 'Bsmt Qual': 'TA',\n",
       " 'Bsmt Cond': 'TA',\n",
       " 'Bsmt Exposure': 'No',\n",
       " 'BsmtFin Type 1': 'GLQ',\n",
       " 'BsmtFin SF 1': 0.0,\n",
       " 'BsmtFin Type 2': 'Unf',\n",
       " 'BsmtFin SF 2': 0.0,\n",
       " 'Bsmt Unf SF': 0.0,\n",
       " 'Total Bsmt SF': 0.0,\n",
       " 'Electrical': 'SBrkr',\n",
       " 'Bsmt Full Bath': 0.0,\n",
       " 'Bsmt Half Bath': 0.0,\n",
       " 'Garage Cars': 2.0,\n",
       " 'Garage Area': 0.0}"
      ]
     },
     "execution_count": 225,
     "metadata": {},
     "output_type": "execute_result"
    }
   ],
   "source": [
    "modes = clean_data[selected_cols].mode().to_dict(orient='records')[0]\n",
    "modes"
   ]
  },
  {
   "cell_type": "code",
   "execution_count": 226,
   "metadata": {},
   "outputs": [
    {
     "name": "stdout",
     "output_type": "stream",
     "text": [
      "<class 'pandas.core.frame.DataFrame'>\n",
      "RangeIndex: 2930 entries, 0 to 2929\n",
      "Data columns (total 16 columns):\n",
      " #   Column          Non-Null Count  Dtype  \n",
      "---  ------          --------------  -----  \n",
      " 0   Mas Vnr Type    2930 non-null   object \n",
      " 1   Mas Vnr Area    2930 non-null   float64\n",
      " 2   Bsmt Qual       2930 non-null   object \n",
      " 3   Bsmt Cond       2930 non-null   object \n",
      " 4   Bsmt Exposure   2930 non-null   object \n",
      " 5   BsmtFin Type 1  2930 non-null   object \n",
      " 6   BsmtFin SF 1    2930 non-null   float64\n",
      " 7   BsmtFin Type 2  2930 non-null   object \n",
      " 8   BsmtFin SF 2    2930 non-null   float64\n",
      " 9   Bsmt Unf SF     2930 non-null   float64\n",
      " 10  Total Bsmt SF   2930 non-null   float64\n",
      " 11  Electrical      2930 non-null   object \n",
      " 12  Bsmt Full Bath  2930 non-null   float64\n",
      " 13  Bsmt Half Bath  2930 non-null   float64\n",
      " 14  Garage Cars     2930 non-null   float64\n",
      " 15  Garage Area     2930 non-null   float64\n",
      "dtypes: float64(9), object(7)\n",
      "memory usage: 366.4+ KB\n"
     ]
    }
   ],
   "source": [
    "clean_data = clean_data.fillna(modes)\n",
    "clean_data[selected_cols].info()"
   ]
  },
  {
   "cell_type": "markdown",
   "metadata": {},
   "source": [
    "Now we need to delete the columns that leak information about the sale: Year, Month, Order, PID. But we will first create other columns that may be used as features: one for how lond had passed between the sale and the last renovation, and the other for how old the house was when sold."
   ]
  },
  {
   "cell_type": "code",
   "execution_count": 227,
   "metadata": {},
   "outputs": [],
   "source": [
    "clean_data['years_since_remod'] = clean_data['Yr Sold'] - clean_data['Year Remod/Add']\n",
    "clean_data['years_until_sold'] = clean_data['Yr Sold'] - clean_data['Year Built']"
   ]
  },
  {
   "cell_type": "markdown",
   "metadata": {},
   "source": [
    "Both of these column can't have negative values. So we will check if all the rows comply with this requirement. If not, we will delete the rows."
   ]
  },
  {
   "cell_type": "code",
   "execution_count": 228,
   "metadata": {},
   "outputs": [
    {
     "data": {
      "text/html": [
       "<div>\n",
       "<style scoped>\n",
       "    .dataframe tbody tr th:only-of-type {\n",
       "        vertical-align: middle;\n",
       "    }\n",
       "\n",
       "    .dataframe tbody tr th {\n",
       "        vertical-align: top;\n",
       "    }\n",
       "\n",
       "    .dataframe thead th {\n",
       "        text-align: right;\n",
       "    }\n",
       "</style>\n",
       "<table border=\"1\" class=\"dataframe\">\n",
       "  <thead>\n",
       "    <tr style=\"text-align: right;\">\n",
       "      <th></th>\n",
       "      <th>Order</th>\n",
       "      <th>PID</th>\n",
       "      <th>MS SubClass</th>\n",
       "      <th>MS Zoning</th>\n",
       "      <th>Lot Area</th>\n",
       "      <th>Street</th>\n",
       "      <th>Lot Shape</th>\n",
       "      <th>Land Contour</th>\n",
       "      <th>Utilities</th>\n",
       "      <th>Lot Config</th>\n",
       "      <th>...</th>\n",
       "      <th>Screen Porch</th>\n",
       "      <th>Pool Area</th>\n",
       "      <th>Misc Val</th>\n",
       "      <th>Mo Sold</th>\n",
       "      <th>Yr Sold</th>\n",
       "      <th>Sale Type</th>\n",
       "      <th>Sale Condition</th>\n",
       "      <th>SalePrice</th>\n",
       "      <th>years_since_remod</th>\n",
       "      <th>years_until_sold</th>\n",
       "    </tr>\n",
       "  </thead>\n",
       "  <tbody>\n",
       "    <tr>\n",
       "      <th>1702</th>\n",
       "      <td>1703</td>\n",
       "      <td>528120010</td>\n",
       "      <td>60</td>\n",
       "      <td>RL</td>\n",
       "      <td>16659</td>\n",
       "      <td>Pave</td>\n",
       "      <td>IR1</td>\n",
       "      <td>Lvl</td>\n",
       "      <td>AllPub</td>\n",
       "      <td>Corner</td>\n",
       "      <td>...</td>\n",
       "      <td>0</td>\n",
       "      <td>0</td>\n",
       "      <td>0</td>\n",
       "      <td>6</td>\n",
       "      <td>2007</td>\n",
       "      <td>New</td>\n",
       "      <td>Partial</td>\n",
       "      <td>260116</td>\n",
       "      <td>-1</td>\n",
       "      <td>0</td>\n",
       "    </tr>\n",
       "    <tr>\n",
       "      <th>2180</th>\n",
       "      <td>2181</td>\n",
       "      <td>908154195</td>\n",
       "      <td>20</td>\n",
       "      <td>RL</td>\n",
       "      <td>39290</td>\n",
       "      <td>Pave</td>\n",
       "      <td>IR1</td>\n",
       "      <td>Bnk</td>\n",
       "      <td>AllPub</td>\n",
       "      <td>Inside</td>\n",
       "      <td>...</td>\n",
       "      <td>0</td>\n",
       "      <td>0</td>\n",
       "      <td>17000</td>\n",
       "      <td>10</td>\n",
       "      <td>2007</td>\n",
       "      <td>New</td>\n",
       "      <td>Partial</td>\n",
       "      <td>183850</td>\n",
       "      <td>-2</td>\n",
       "      <td>-1</td>\n",
       "    </tr>\n",
       "    <tr>\n",
       "      <th>2181</th>\n",
       "      <td>2182</td>\n",
       "      <td>908154205</td>\n",
       "      <td>60</td>\n",
       "      <td>RL</td>\n",
       "      <td>40094</td>\n",
       "      <td>Pave</td>\n",
       "      <td>IR1</td>\n",
       "      <td>Bnk</td>\n",
       "      <td>AllPub</td>\n",
       "      <td>Inside</td>\n",
       "      <td>...</td>\n",
       "      <td>0</td>\n",
       "      <td>0</td>\n",
       "      <td>0</td>\n",
       "      <td>10</td>\n",
       "      <td>2007</td>\n",
       "      <td>New</td>\n",
       "      <td>Partial</td>\n",
       "      <td>184750</td>\n",
       "      <td>-1</td>\n",
       "      <td>0</td>\n",
       "    </tr>\n",
       "  </tbody>\n",
       "</table>\n",
       "<p>3 rows × 73 columns</p>\n",
       "</div>"
      ],
      "text/plain": [
       "      Order        PID  MS SubClass MS Zoning  Lot Area Street Lot Shape  \\\n",
       "1702   1703  528120010           60        RL     16659   Pave       IR1   \n",
       "2180   2181  908154195           20        RL     39290   Pave       IR1   \n",
       "2181   2182  908154205           60        RL     40094   Pave       IR1   \n",
       "\n",
       "     Land Contour Utilities Lot Config  ... Screen Porch Pool Area Misc Val  \\\n",
       "1702          Lvl    AllPub     Corner  ...            0         0        0   \n",
       "2180          Bnk    AllPub     Inside  ...            0         0    17000   \n",
       "2181          Bnk    AllPub     Inside  ...            0         0        0   \n",
       "\n",
       "     Mo Sold Yr Sold Sale Type  Sale Condition  SalePrice  years_since_remod  \\\n",
       "1702       6    2007       New         Partial     260116                 -1   \n",
       "2180      10    2007       New         Partial     183850                 -2   \n",
       "2181      10    2007       New         Partial     184750                 -1   \n",
       "\n",
       "      years_until_sold  \n",
       "1702                 0  \n",
       "2180                -1  \n",
       "2181                 0  \n",
       "\n",
       "[3 rows x 73 columns]"
      ]
     },
     "execution_count": 228,
     "metadata": {},
     "output_type": "execute_result"
    }
   ],
   "source": [
    "clean_data[clean_data['years_since_remod']<0]"
   ]
  },
  {
   "cell_type": "code",
   "execution_count": 229,
   "metadata": {},
   "outputs": [
    {
     "data": {
      "text/html": [
       "<div>\n",
       "<style scoped>\n",
       "    .dataframe tbody tr th:only-of-type {\n",
       "        vertical-align: middle;\n",
       "    }\n",
       "\n",
       "    .dataframe tbody tr th {\n",
       "        vertical-align: top;\n",
       "    }\n",
       "\n",
       "    .dataframe thead th {\n",
       "        text-align: right;\n",
       "    }\n",
       "</style>\n",
       "<table border=\"1\" class=\"dataframe\">\n",
       "  <thead>\n",
       "    <tr style=\"text-align: right;\">\n",
       "      <th></th>\n",
       "      <th>Order</th>\n",
       "      <th>PID</th>\n",
       "      <th>MS SubClass</th>\n",
       "      <th>MS Zoning</th>\n",
       "      <th>Lot Area</th>\n",
       "      <th>Street</th>\n",
       "      <th>Lot Shape</th>\n",
       "      <th>Land Contour</th>\n",
       "      <th>Utilities</th>\n",
       "      <th>Lot Config</th>\n",
       "      <th>...</th>\n",
       "      <th>Screen Porch</th>\n",
       "      <th>Pool Area</th>\n",
       "      <th>Misc Val</th>\n",
       "      <th>Mo Sold</th>\n",
       "      <th>Yr Sold</th>\n",
       "      <th>Sale Type</th>\n",
       "      <th>Sale Condition</th>\n",
       "      <th>SalePrice</th>\n",
       "      <th>years_since_remod</th>\n",
       "      <th>years_until_sold</th>\n",
       "    </tr>\n",
       "  </thead>\n",
       "  <tbody>\n",
       "    <tr>\n",
       "      <th>2180</th>\n",
       "      <td>2181</td>\n",
       "      <td>908154195</td>\n",
       "      <td>20</td>\n",
       "      <td>RL</td>\n",
       "      <td>39290</td>\n",
       "      <td>Pave</td>\n",
       "      <td>IR1</td>\n",
       "      <td>Bnk</td>\n",
       "      <td>AllPub</td>\n",
       "      <td>Inside</td>\n",
       "      <td>...</td>\n",
       "      <td>0</td>\n",
       "      <td>0</td>\n",
       "      <td>17000</td>\n",
       "      <td>10</td>\n",
       "      <td>2007</td>\n",
       "      <td>New</td>\n",
       "      <td>Partial</td>\n",
       "      <td>183850</td>\n",
       "      <td>-2</td>\n",
       "      <td>-1</td>\n",
       "    </tr>\n",
       "  </tbody>\n",
       "</table>\n",
       "<p>1 rows × 73 columns</p>\n",
       "</div>"
      ],
      "text/plain": [
       "      Order        PID  MS SubClass MS Zoning  Lot Area Street Lot Shape  \\\n",
       "2180   2181  908154195           20        RL     39290   Pave       IR1   \n",
       "\n",
       "     Land Contour Utilities Lot Config  ... Screen Porch Pool Area Misc Val  \\\n",
       "2180          Bnk    AllPub     Inside  ...            0         0    17000   \n",
       "\n",
       "     Mo Sold Yr Sold Sale Type  Sale Condition  SalePrice  years_since_remod  \\\n",
       "2180      10    2007       New         Partial     183850                 -2   \n",
       "\n",
       "      years_until_sold  \n",
       "2180                -1  \n",
       "\n",
       "[1 rows x 73 columns]"
      ]
     },
     "execution_count": 229,
     "metadata": {},
     "output_type": "execute_result"
    }
   ],
   "source": [
    "clean_data[clean_data['years_until_sold']<0]"
   ]
  },
  {
   "cell_type": "code",
   "execution_count": 230,
   "metadata": {},
   "outputs": [
    {
     "name": "stdout",
     "output_type": "stream",
     "text": [
      "<class 'pandas.core.frame.DataFrame'>\n",
      "Int64Index: 2927 entries, 0 to 2929\n",
      "Data columns (total 73 columns):\n",
      " #   Column             Non-Null Count  Dtype  \n",
      "---  ------             --------------  -----  \n",
      " 0   Order              2927 non-null   int64  \n",
      " 1   PID                2927 non-null   int64  \n",
      " 2   MS SubClass        2927 non-null   int64  \n",
      " 3   MS Zoning          2927 non-null   object \n",
      " 4   Lot Area           2927 non-null   int64  \n",
      " 5   Street             2927 non-null   object \n",
      " 6   Lot Shape          2927 non-null   object \n",
      " 7   Land Contour       2927 non-null   object \n",
      " 8   Utilities          2927 non-null   object \n",
      " 9   Lot Config         2927 non-null   object \n",
      " 10  Land Slope         2927 non-null   object \n",
      " 11  Neighborhood       2927 non-null   object \n",
      " 12  Condition 1        2927 non-null   object \n",
      " 13  Condition 2        2927 non-null   object \n",
      " 14  Bldg Type          2927 non-null   object \n",
      " 15  House Style        2927 non-null   object \n",
      " 16  Overall Qual       2927 non-null   int64  \n",
      " 17  Overall Cond       2927 non-null   int64  \n",
      " 18  Year Built         2927 non-null   int64  \n",
      " 19  Year Remod/Add     2927 non-null   int64  \n",
      " 20  Roof Style         2927 non-null   object \n",
      " 21  Roof Matl          2927 non-null   object \n",
      " 22  Exterior 1st       2927 non-null   object \n",
      " 23  Exterior 2nd       2927 non-null   object \n",
      " 24  Mas Vnr Type       2927 non-null   object \n",
      " 25  Mas Vnr Area       2927 non-null   float64\n",
      " 26  Exter Qual         2927 non-null   object \n",
      " 27  Exter Cond         2927 non-null   object \n",
      " 28  Foundation         2927 non-null   object \n",
      " 29  Bsmt Qual          2927 non-null   object \n",
      " 30  Bsmt Cond          2927 non-null   object \n",
      " 31  Bsmt Exposure      2927 non-null   object \n",
      " 32  BsmtFin Type 1     2927 non-null   object \n",
      " 33  BsmtFin SF 1       2927 non-null   float64\n",
      " 34  BsmtFin Type 2     2927 non-null   object \n",
      " 35  BsmtFin SF 2       2927 non-null   float64\n",
      " 36  Bsmt Unf SF        2927 non-null   float64\n",
      " 37  Total Bsmt SF      2927 non-null   float64\n",
      " 38  Heating            2927 non-null   object \n",
      " 39  Heating QC         2927 non-null   object \n",
      " 40  Central Air        2927 non-null   object \n",
      " 41  Electrical         2927 non-null   object \n",
      " 42  1st Flr SF         2927 non-null   int64  \n",
      " 43  2nd Flr SF         2927 non-null   int64  \n",
      " 44  Low Qual Fin SF    2927 non-null   int64  \n",
      " 45  Gr Liv Area        2927 non-null   int64  \n",
      " 46  Bsmt Full Bath     2927 non-null   float64\n",
      " 47  Bsmt Half Bath     2927 non-null   float64\n",
      " 48  Full Bath          2927 non-null   int64  \n",
      " 49  Half Bath          2927 non-null   int64  \n",
      " 50  Bedroom AbvGr      2927 non-null   int64  \n",
      " 51  Kitchen AbvGr      2927 non-null   int64  \n",
      " 52  Kitchen Qual       2927 non-null   object \n",
      " 53  TotRms AbvGrd      2927 non-null   int64  \n",
      " 54  Functional         2927 non-null   object \n",
      " 55  Fireplaces         2927 non-null   int64  \n",
      " 56  Garage Cars        2927 non-null   float64\n",
      " 57  Garage Area        2927 non-null   float64\n",
      " 58  Paved Drive        2927 non-null   object \n",
      " 59  Wood Deck SF       2927 non-null   int64  \n",
      " 60  Open Porch SF      2927 non-null   int64  \n",
      " 61  Enclosed Porch     2927 non-null   int64  \n",
      " 62  3Ssn Porch         2927 non-null   int64  \n",
      " 63  Screen Porch       2927 non-null   int64  \n",
      " 64  Pool Area          2927 non-null   int64  \n",
      " 65  Misc Val           2927 non-null   int64  \n",
      " 66  Mo Sold            2927 non-null   int64  \n",
      " 67  Yr Sold            2927 non-null   int64  \n",
      " 68  Sale Type          2927 non-null   object \n",
      " 69  Sale Condition     2927 non-null   object \n",
      " 70  SalePrice          2927 non-null   int64  \n",
      " 71  years_since_remod  2927 non-null   int64  \n",
      " 72  years_until_sold   2927 non-null   int64  \n",
      "dtypes: float64(9), int64(30), object(34)\n",
      "memory usage: 1.7+ MB\n"
     ]
    }
   ],
   "source": [
    "clean_data = clean_data.drop([1702, 2180, 2181], axis=0)\n",
    "clean_data.info()"
   ]
  },
  {
   "cell_type": "code",
   "execution_count": 231,
   "metadata": {},
   "outputs": [
    {
     "name": "stdout",
     "output_type": "stream",
     "text": [
      "<class 'pandas.core.frame.DataFrame'>\n",
      "Int64Index: 2927 entries, 0 to 2929\n",
      "Data columns (total 65 columns):\n",
      " #   Column             Non-Null Count  Dtype  \n",
      "---  ------             --------------  -----  \n",
      " 0   MS SubClass        2927 non-null   int64  \n",
      " 1   MS Zoning          2927 non-null   object \n",
      " 2   Lot Area           2927 non-null   int64  \n",
      " 3   Street             2927 non-null   object \n",
      " 4   Lot Shape          2927 non-null   object \n",
      " 5   Land Contour       2927 non-null   object \n",
      " 6   Utilities          2927 non-null   object \n",
      " 7   Lot Config         2927 non-null   object \n",
      " 8   Land Slope         2927 non-null   object \n",
      " 9   Neighborhood       2927 non-null   object \n",
      " 10  Condition 1        2927 non-null   object \n",
      " 11  Condition 2        2927 non-null   object \n",
      " 12  Bldg Type          2927 non-null   object \n",
      " 13  House Style        2927 non-null   object \n",
      " 14  Overall Qual       2927 non-null   int64  \n",
      " 15  Overall Cond       2927 non-null   int64  \n",
      " 16  Roof Style         2927 non-null   object \n",
      " 17  Roof Matl          2927 non-null   object \n",
      " 18  Exterior 1st       2927 non-null   object \n",
      " 19  Exterior 2nd       2927 non-null   object \n",
      " 20  Mas Vnr Type       2927 non-null   object \n",
      " 21  Mas Vnr Area       2927 non-null   float64\n",
      " 22  Exter Qual         2927 non-null   object \n",
      " 23  Exter Cond         2927 non-null   object \n",
      " 24  Foundation         2927 non-null   object \n",
      " 25  Bsmt Qual          2927 non-null   object \n",
      " 26  Bsmt Cond          2927 non-null   object \n",
      " 27  Bsmt Exposure      2927 non-null   object \n",
      " 28  BsmtFin Type 1     2927 non-null   object \n",
      " 29  BsmtFin SF 1       2927 non-null   float64\n",
      " 30  BsmtFin Type 2     2927 non-null   object \n",
      " 31  BsmtFin SF 2       2927 non-null   float64\n",
      " 32  Bsmt Unf SF        2927 non-null   float64\n",
      " 33  Total Bsmt SF      2927 non-null   float64\n",
      " 34  Heating            2927 non-null   object \n",
      " 35  Heating QC         2927 non-null   object \n",
      " 36  Central Air        2927 non-null   object \n",
      " 37  Electrical         2927 non-null   object \n",
      " 38  1st Flr SF         2927 non-null   int64  \n",
      " 39  2nd Flr SF         2927 non-null   int64  \n",
      " 40  Low Qual Fin SF    2927 non-null   int64  \n",
      " 41  Gr Liv Area        2927 non-null   int64  \n",
      " 42  Bsmt Full Bath     2927 non-null   float64\n",
      " 43  Bsmt Half Bath     2927 non-null   float64\n",
      " 44  Full Bath          2927 non-null   int64  \n",
      " 45  Half Bath          2927 non-null   int64  \n",
      " 46  Bedroom AbvGr      2927 non-null   int64  \n",
      " 47  Kitchen AbvGr      2927 non-null   int64  \n",
      " 48  Kitchen Qual       2927 non-null   object \n",
      " 49  TotRms AbvGrd      2927 non-null   int64  \n",
      " 50  Functional         2927 non-null   object \n",
      " 51  Fireplaces         2927 non-null   int64  \n",
      " 52  Garage Cars        2927 non-null   float64\n",
      " 53  Garage Area        2927 non-null   float64\n",
      " 54  Paved Drive        2927 non-null   object \n",
      " 55  Wood Deck SF       2927 non-null   int64  \n",
      " 56  Open Porch SF      2927 non-null   int64  \n",
      " 57  Enclosed Porch     2927 non-null   int64  \n",
      " 58  3Ssn Porch         2927 non-null   int64  \n",
      " 59  Screen Porch       2927 non-null   int64  \n",
      " 60  Pool Area          2927 non-null   int64  \n",
      " 61  Misc Val           2927 non-null   int64  \n",
      " 62  SalePrice          2927 non-null   int64  \n",
      " 63  years_since_remod  2927 non-null   int64  \n",
      " 64  years_until_sold   2927 non-null   int64  \n",
      "dtypes: float64(9), int64(24), object(32)\n",
      "memory usage: 1.5+ MB\n"
     ]
    }
   ],
   "source": [
    "#Drop the columns leaking data or not useful anymore\n",
    "clean_data = clean_data.drop(['PID', 'Order', 'Mo Sold', 'Sale Condition', 'Sale Type', 'Yr Sold', 'Year Remod/Add', 'Year Built'], axis=1)\n",
    "clean_data.info()"
   ]
  },
  {
   "cell_type": "markdown",
   "metadata": {},
   "source": [
    "Now we will update the `transform_features()` funtion."
   ]
  },
  {
   "cell_type": "code",
   "execution_count": 232,
   "metadata": {},
   "outputs": [
    {
     "name": "stdout",
     "output_type": "stream",
     "text": [
      "Root Square Error:  57088.25161263909\n"
     ]
    }
   ],
   "source": [
    "def transform_features(df):\n",
    "    \"\"\"\n",
    "    returns clean dataframe without missing values \n",
    "    \"\"\"\n",
    "    new_df = df.copy()\n",
    "    #Removing columns with more than 5% missing values\n",
    "    data_nulls = new_df.isnull().sum()\n",
    "    cols_to_remove = data_nulls[data_nulls>=len(new_df)*0.05].index\n",
    "    new_df = new_df.drop(cols_to_remove, axis=1)\n",
    "    \n",
    "    #In columns with less than 5% missing data, fill the missing data with the column's mode\n",
    "    data_nulls = new_df.isnull().sum()\n",
    "    selected_cols = data_nulls[(data_nulls < len(new_df)*0.05)&(data_nulls>0)].index\n",
    "    modes = new_df[selected_cols].mode().to_dict(orient='records')[0]\n",
    "    new_df[selected_cols] = new_df[selected_cols].fillna(modes)\n",
    "    \n",
    "    #Make new informative columns\n",
    "    new_df['years_since_remod'] = new_df['Yr Sold'] - new_df['Year Remod/Add']\n",
    "    new_df['years_until_sold'] = new_df['Yr Sold'] - new_df['Year Built']\n",
    "\n",
    "    #Drop columns that have negative values in these columns\n",
    "    new_def = new_df.drop([1702, 2180, 2181], axis=0)\n",
    "\n",
    "    #Drop columns that aren't useful for ML or leak information about the sale\n",
    "    new_df = new_df.drop(['PID', 'Order', 'Mo Sold', 'Sale Condition', 'Sale Type', 'Yr Sold', 'Year Remod/Add', 'Year Built'], axis=1)\n",
    "\n",
    "    return new_df\n",
    "\n",
    "def select_features(df):\n",
    "    \"\"\"\n",
    "    returns the Gr Liv Area and SalePrice columns \n",
    "    from the train data frame\n",
    "    \"\"\"\n",
    "    selected = df[['Gr Liv Area', 'SalePrice']]\n",
    "    return selected\n",
    "\n",
    "def train_and_test(df):\n",
    "    \"\"\"\n",
    "    Trains a model using all numerical columns except the SalePrice column (the target column) from the data frame returned from select_features()\n",
    "    Tests the model on the test set and returns the RMSE value\n",
    "    \"\"\"\n",
    "    train = df[:1460]\n",
    "    test = df[1460:]\n",
    "    numerical_cols = list(train.select_dtypes(include='int').columns)\n",
    "    numerical_cols.remove('SalePrice')\n",
    "    target = 'SalePrice'\n",
    "    lr = LinearRegression()\n",
    "    lr.fit(train[numerical_cols], train[target])\n",
    "    predictions = lr.predict(test[numerical_cols])\n",
    "    rmse = np.sqrt(mean_squared_error(test[target], predictions))\n",
    "    return rmse\n",
    "\n",
    "transform_df = transform_features(data)\n",
    "filtered_df = select_features(transform_df)\n",
    "rmse = train_and_test(filtered_df)\n",
    "\n",
    "print(\"Root Square Error: \", rmse)"
   ]
  },
  {
   "cell_type": "markdown",
   "metadata": {},
   "source": [
    "## Feature Selection"
   ]
  },
  {
   "cell_type": "markdown",
   "metadata": {},
   "source": [
    "For numeric features we will compute correlations between these features and `SalePrice` and get features that have more than 0.4 correlation coefficient. "
   ]
  },
  {
   "cell_type": "code",
   "execution_count": 233,
   "metadata": {},
   "outputs": [
    {
     "data": {
      "text/plain": [
       "SalePrice            1.000000\n",
       "Overall Qual         0.801206\n",
       "Gr Liv Area          0.717596\n",
       "Garage Cars          0.648361\n",
       "Total Bsmt SF        0.644012\n",
       "Garage Area          0.641425\n",
       "1st Flr SF           0.635185\n",
       "years_until_sold     0.558979\n",
       "Full Bath            0.546118\n",
       "years_since_remod    0.534985\n",
       "Mas Vnr Area         0.506983\n",
       "TotRms AbvGrd        0.498574\n",
       "Fireplaces           0.474831\n",
       "BsmtFin SF 1         0.439284\n",
       "Name: SalePrice, dtype: float64"
      ]
     },
     "execution_count": 233,
     "metadata": {},
     "output_type": "execute_result"
    }
   ],
   "source": [
    "numeric_data = clean_data.select_dtypes(include=['integer', 'float'])\n",
    "corrs = numeric_data.corr()\n",
    "price_corrs = corrs['SalePrice'].abs().sort_values(ascending=False)\n",
    "corrs_above_04 = price_corrs[price_corrs>0.4]\n",
    "corrs_above_04"
   ]
  },
  {
   "cell_type": "code",
   "execution_count": 234,
   "metadata": {},
   "outputs": [
    {
     "data": {
      "text/plain": [
       "<AxesSubplot:>"
      ]
     },
     "execution_count": 234,
     "metadata": {},
     "output_type": "execute_result"
    },
    {
     "data": {
      "image/png": "[encoded data removed]",
      "text/plain": [
       "<Figure size 720x576 with 2 Axes>"
      ]
     },
     "metadata": {
      "needs_background": "light"
     },
     "output_type": "display_data"
    }
   ],
   "source": [
    "numeric_data = numeric_data[corrs_above_04.index]\n",
    "new_corrs = numeric_data.corr()\n",
    "fig, ax = plt.subplots(figsize=(10,8))  \n",
    "sns.heatmap(new_corrs, cmap=\"YlGnBu\",annot=True, ax=ax)"
   ]
  },
  {
   "cell_type": "markdown",
   "metadata": {},
   "source": [
    "Three sets of columns are strongly correlated (above 0.7): `Garage Cars` and `Garage Area`, `Total Bsmt SF` and `1st Flr SF`, `Gr Liv Area` and `TotRms AbvGrd`. We will only leave one column from both sets. The one that has stronger correlation with `SalePrice`."
   ]
  },
  {
   "cell_type": "code",
   "execution_count": 235,
   "metadata": {},
   "outputs": [
    {
     "name": "stdout",
     "output_type": "stream",
     "text": [
      "<class 'pandas.core.frame.DataFrame'>\n",
      "Int64Index: 2927 entries, 0 to 2929\n",
      "Data columns (total 11 columns):\n",
      " #   Column             Non-Null Count  Dtype  \n",
      "---  ------             --------------  -----  \n",
      " 0   SalePrice          2927 non-null   int64  \n",
      " 1   Overall Qual       2927 non-null   int64  \n",
      " 2   Gr Liv Area        2927 non-null   int64  \n",
      " 3   Garage Cars        2927 non-null   float64\n",
      " 4   Total Bsmt SF      2927 non-null   float64\n",
      " 5   years_until_sold   2927 non-null   int64  \n",
      " 6   Full Bath          2927 non-null   int64  \n",
      " 7   years_since_remod  2927 non-null   int64  \n",
      " 8   Mas Vnr Area       2927 non-null   float64\n",
      " 9   Fireplaces         2927 non-null   int64  \n",
      " 10  BsmtFin SF 1       2927 non-null   float64\n",
      "dtypes: float64(4), int64(7)\n",
      "memory usage: 274.4 KB\n"
     ]
    }
   ],
   "source": [
    "numeric_features = numeric_data.drop(['Garage Area', '1st Flr SF', 'TotRms AbvGrd'], axis=1)\n",
    "numeric_features.info()"
   ]
  },
  {
   "cell_type": "markdown",
   "metadata": {},
   "source": [
    "For text columns, we need to choose which of them to convert into dummy variables. "
   ]
  },
  {
   "cell_type": "code",
   "execution_count": 236,
   "metadata": {},
   "outputs": [
    {
     "name": "stdout",
     "output_type": "stream",
     "text": [
      "<class 'pandas.core.frame.DataFrame'>\n",
      "Int64Index: 2927 entries, 0 to 2929\n",
      "Data columns (total 32 columns):\n",
      " #   Column          Non-Null Count  Dtype \n",
      "---  ------          --------------  ----- \n",
      " 0   MS Zoning       2927 non-null   object\n",
      " 1   Street          2927 non-null   object\n",
      " 2   Lot Shape       2927 non-null   object\n",
      " 3   Land Contour    2927 non-null   object\n",
      " 4   Utilities       2927 non-null   object\n",
      " 5   Lot Config      2927 non-null   object\n",
      " 6   Land Slope      2927 non-null   object\n",
      " 7   Neighborhood    2927 non-null   object\n",
      " 8   Condition 1     2927 non-null   object\n",
      " 9   Condition 2     2927 non-null   object\n",
      " 10  Bldg Type       2927 non-null   object\n",
      " 11  House Style     2927 non-null   object\n",
      " 12  Roof Style      2927 non-null   object\n",
      " 13  Roof Matl       2927 non-null   object\n",
      " 14  Exterior 1st    2927 non-null   object\n",
      " 15  Exterior 2nd    2927 non-null   object\n",
      " 16  Mas Vnr Type    2927 non-null   object\n",
      " 17  Exter Qual      2927 non-null   object\n",
      " 18  Exter Cond      2927 non-null   object\n",
      " 19  Foundation      2927 non-null   object\n",
      " 20  Bsmt Qual       2927 non-null   object\n",
      " 21  Bsmt Cond       2927 non-null   object\n",
      " 22  Bsmt Exposure   2927 non-null   object\n",
      " 23  BsmtFin Type 1  2927 non-null   object\n",
      " 24  BsmtFin Type 2  2927 non-null   object\n",
      " 25  Heating         2927 non-null   object\n",
      " 26  Heating QC      2927 non-null   object\n",
      " 27  Central Air     2927 non-null   object\n",
      " 28  Electrical      2927 non-null   object\n",
      " 29  Kitchen Qual    2927 non-null   object\n",
      " 30  Functional      2927 non-null   object\n",
      " 31  Paved Drive     2927 non-null   object\n",
      "dtypes: object(32)\n",
      "memory usage: 754.6+ KB\n"
     ]
    }
   ],
   "source": [
    "nominal_data = clean_data.select_dtypes(include='object')\n",
    "nominal_data.info()"
   ]
  },
  {
   "cell_type": "markdown",
   "metadata": {},
   "source": [
    "We will exclude the columns that have more than 10 unique values (number chosen arbitrarily, can be changed)."
   ]
  },
  {
   "cell_type": "code",
   "execution_count": 237,
   "metadata": {},
   "outputs": [
    {
     "name": "stdout",
     "output_type": "stream",
     "text": [
      "Categorical columns:  ['MS Zoning', 'Street', 'Lot Shape', 'Land Contour', 'Utilities', 'Lot Config', 'Land Slope', 'Condition 1', 'Condition 2', 'Bldg Type', 'House Style', 'Roof Style', 'Roof Matl', 'Mas Vnr Type', 'Exter Qual', 'Exter Cond', 'Foundation', 'Bsmt Qual', 'Bsmt Cond', 'Bsmt Exposure', 'BsmtFin Type 1', 'BsmtFin Type 2', 'Heating', 'Heating QC', 'Central Air', 'Electrical', 'Kitchen Qual', 'Functional', 'Paved Drive']\n",
      "\n",
      "\n",
      "Nominal columns:  ['Neighborhood', 'Exterior 1st', 'Exterior 2nd']\n"
     ]
    }
   ],
   "source": [
    "categorical = []\n",
    "not_categorical = []\n",
    "\n",
    "for column in nominal_data.columns:\n",
    "    num_unique = len(nominal_data[column].unique())\n",
    "    if num_unique > 10:\n",
    "        not_categorical.append(column)\n",
    "    elif num_unique <= 10:\n",
    "        categorical.append(column)\n",
    "\n",
    "print(\"Categorical columns: \", categorical)\n",
    "print('\\n')\n",
    "print(\"Nominal columns: \",not_categorical)\n",
    "\n",
    "nominal_data = nominal_data[categorical]"
   ]
  },
  {
   "cell_type": "markdown",
   "metadata": {},
   "source": [
    "Now we will find the columns with low variability (more than 90% of the same value) and exclude then as well."
   ]
  },
  {
   "cell_type": "code",
   "execution_count": 238,
   "metadata": {},
   "outputs": [
    {
     "name": "stdout",
     "output_type": "stream",
     "text": [
      "<class 'pandas.core.frame.DataFrame'>\n",
      "Int64Index: 2927 entries, 0 to 2929\n",
      "Data columns (total 18 columns):\n",
      " #   Column          Non-Null Count  Dtype \n",
      "---  ------          --------------  ----- \n",
      " 0   MS Zoning       2927 non-null   object\n",
      " 1   Lot Shape       2927 non-null   object\n",
      " 2   Land Contour    2927 non-null   object\n",
      " 3   Lot Config      2927 non-null   object\n",
      " 4   Condition 1     2927 non-null   object\n",
      " 5   Bldg Type       2927 non-null   object\n",
      " 6   House Style     2927 non-null   object\n",
      " 7   Roof Style      2927 non-null   object\n",
      " 8   Mas Vnr Type    2927 non-null   object\n",
      " 9   Exter Qual      2927 non-null   object\n",
      " 10  Exter Cond      2927 non-null   object\n",
      " 11  Foundation      2927 non-null   object\n",
      " 12  Bsmt Qual       2927 non-null   object\n",
      " 13  Bsmt Exposure   2927 non-null   object\n",
      " 14  BsmtFin Type 1  2927 non-null   object\n",
      " 15  BsmtFin Type 2  2927 non-null   object\n",
      " 16  Heating QC      2927 non-null   object\n",
      " 17  Kitchen Qual    2927 non-null   object\n",
      "dtypes: object(18)\n",
      "memory usage: 434.5+ KB\n"
     ]
    }
   ],
   "source": [
    "above_90 = []\n",
    "for column in nominal_data:\n",
    "    counts = nominal_data[column].value_counts(normalize=True)\n",
    "    for value in counts:\n",
    "        if value >= 0.90:\n",
    "            above_90.append(column)\n",
    "        else:\n",
    "            continue\n",
    "       \n",
    "nominal_data = nominal_data.drop(above_90, axis=1)\n",
    "nominal_data.info()"
   ]
  },
  {
   "cell_type": "markdown",
   "metadata": {},
   "source": [
    "We have too many text columns to convert them all into dummies. We will drop the columns that have missing values to reduce the list."
   ]
  },
  {
   "cell_type": "code",
   "execution_count": 239,
   "metadata": {},
   "outputs": [
    {
     "name": "stdout",
     "output_type": "stream",
     "text": [
      "<class 'pandas.core.frame.DataFrame'>\n",
      "Int64Index: 2927 entries, 0 to 2929\n",
      "Data columns (total 18 columns):\n",
      " #   Column          Non-Null Count  Dtype \n",
      "---  ------          --------------  ----- \n",
      " 0   MS Zoning       2927 non-null   object\n",
      " 1   Lot Shape       2927 non-null   object\n",
      " 2   Land Contour    2927 non-null   object\n",
      " 3   Lot Config      2927 non-null   object\n",
      " 4   Condition 1     2927 non-null   object\n",
      " 5   Bldg Type       2927 non-null   object\n",
      " 6   House Style     2927 non-null   object\n",
      " 7   Roof Style      2927 non-null   object\n",
      " 8   Mas Vnr Type    2927 non-null   object\n",
      " 9   Exter Qual      2927 non-null   object\n",
      " 10  Exter Cond      2927 non-null   object\n",
      " 11  Foundation      2927 non-null   object\n",
      " 12  Bsmt Qual       2927 non-null   object\n",
      " 13  Bsmt Exposure   2927 non-null   object\n",
      " 14  BsmtFin Type 1  2927 non-null   object\n",
      " 15  BsmtFin Type 2  2927 non-null   object\n",
      " 16  Heating QC      2927 non-null   object\n",
      " 17  Kitchen Qual    2927 non-null   object\n",
      "dtypes: object(18)\n",
      "memory usage: 434.5+ KB\n"
     ]
    }
   ],
   "source": [
    "nominal_data.dropna(inplace=True, axis=1)\n",
    "nominal_data.info()"
   ]
  },
  {
   "cell_type": "code",
   "execution_count": 240,
   "metadata": {},
   "outputs": [
    {
     "name": "stdout",
     "output_type": "stream",
     "text": [
      "SalePrice           1.000000\n",
      "Bsmt Qual_Ex        0.595796\n",
      "Exter Qual_TA       0.591013\n",
      "Kitchen Qual_Ex     0.540099\n",
      "Kitchen Qual_TA     0.526714\n",
      "Foundation_PConc    0.520974\n",
      "Bsmt Qual_TA        0.500473\n",
      "Exter Qual_Ex       0.484861\n",
      "Heating QC_Ex       0.454492\n",
      "Exter Qual_Gd       0.446338\n",
      "Name: SalePrice, dtype: float64\n"
     ]
    }
   ],
   "source": [
    "nominal_dummies = pd.get_dummies(nominal_data)\n",
    "nominal_dummies['SalePrice'] = numeric_data['SalePrice']\n",
    "nom_corrs = nominal_dummies.corr()['SalePrice'].abs().sort_values(ascending=False)\n",
    "noms_above_04 = nom_corrs[nom_corrs>0.4]\n",
    "print(noms_above_04)"
   ]
  },
  {
   "cell_type": "markdown",
   "metadata": {},
   "source": [
    "Let us check for collinearity between the columns."
   ]
  },
  {
   "cell_type": "code",
   "execution_count": 241,
   "metadata": {},
   "outputs": [
    {
     "data": {
      "text/plain": [
       "<AxesSubplot:>"
      ]
     },
     "execution_count": 241,
     "metadata": {},
     "output_type": "execute_result"
    },
    {
     "data": {
      "image/png": "[encoded data removed]",
      "text/plain": [
       "<Figure size 720x432 with 2 Axes>"
      ]
     },
     "metadata": {
      "needs_background": "light"
     },
     "output_type": "display_data"
    }
   ],
   "source": [
    "new_nom_corrs = nominal_dummies[noms_above_04.index].corr()\n",
    "fig, ax = plt.subplots(figsize=(10,6))  \n",
    "sns.heatmap(new_nom_corrs, cmap=\"YlGnBu\", annot=True, ax=ax)"
   ]
  },
  {
   "cell_type": "markdown",
   "metadata": {},
   "source": [
    "Some features are strongly correlated, but none of them above 0.7. We will leave these columns as they are for now and lower the treshold if the model performs poorly. "
   ]
  },
  {
   "cell_type": "code",
   "execution_count": 242,
   "metadata": {},
   "outputs": [
    {
     "name": "stdout",
     "output_type": "stream",
     "text": [
      "Root Square Error:  40812.76413759153\n"
     ]
    }
   ],
   "source": [
    "def transform_features(df):\n",
    "    \"\"\"\n",
    "    returns clean dataframe without missing values \n",
    "    \"\"\"\n",
    "    new_df = df.copy()\n",
    "    #Removing columns with more than 5% missing values\n",
    "    data_nulls = new_df.isnull().sum()\n",
    "    cols_to_remove = data_nulls[data_nulls>=len(new_df)*0.05].index\n",
    "    new_df = new_df.drop(cols_to_remove, axis=1)\n",
    "    \n",
    "    #In columns with less than 5% missing data, fill the missing data with the column's mode\n",
    "    data_nulls = new_df.isnull().sum()\n",
    "    selected_cols = data_nulls[(data_nulls < len(new_df)*0.05)&(data_nulls>0)].index\n",
    "    modes = new_df[selected_cols].mode().to_dict(orient='records')[0]\n",
    "    new_df[selected_cols] = new_df[selected_cols].fillna(modes)\n",
    "    \n",
    "    #Make new informative columns\n",
    "    new_df['years_since_remod'] = new_df['Yr Sold'] - new_df['Year Remod/Add']\n",
    "    new_df['years_until_sold'] = new_df['Yr Sold'] - new_df['Year Built']\n",
    "\n",
    "    #Drop columns that have negative values in these columns\n",
    "    new_def = new_df.drop([1702, 2180, 2181], axis=0)\n",
    "\n",
    "    #Drop columns that aren't useful for ML or leak information about the sale\n",
    "    new_df = new_df.drop(['PID', 'Order', 'Mo Sold', 'Sale Condition', 'Sale Type', 'Yr Sold', 'Year Remod/Add', 'Year Built'], axis=1)\n",
    "\n",
    "    return new_df\n",
    "\n",
    "def select_features(df):\n",
    "    \"\"\"\n",
    "    returns the feature columns \n",
    "    from the transformed data frame\n",
    "    \"\"\"\n",
    "    #Selecting numeric columns with more than 0.4 correlation coefficient\n",
    "    numeric_data = data.select_dtypes(include=['integer', 'float'])\n",
    "    corrs = numeric_data.corr()\n",
    "    price_corrs = corrs['SalePrice'].abs().sort_values(ascending=False)\n",
    "    corrs_above_04 = price_corrs[price_corrs>0.4]\n",
    "    numeric_data = numeric_data[corrs_above_04.index]\n",
    "\n",
    "    #Dropping columns that have collinearity with other features\n",
    "    numeric_features = numeric_data.drop(['Garage Area', '1st Flr SF', 'TotRms AbvGrd'], axis=1)\n",
    "\n",
    "    #Dropping the text columns that have too many categories (more than 10)\n",
    "    nominal_data = df.select_dtypes(include='object')\n",
    "    categorical = []\n",
    "    not_categorical = []\n",
    "    for column in nominal_data.columns:\n",
    "        num_unique = len(nominal_data[column].unique())\n",
    "        if num_unique > 10:\n",
    "            not_categorical.append(column)\n",
    "        elif num_unique <= 10:\n",
    "            categorical.append(column)\n",
    "    nominal_data = nominal_data[categorical]\n",
    "\n",
    "    #Dropping the text columns that have more than 90% of the same value\n",
    "    above_90 = []\n",
    "    for column in nominal_data:\n",
    "        counts = nominal_data[column].value_counts(normalize=True)\n",
    "        for value in counts:\n",
    "            if value >= 0.90:\n",
    "                above_90.append(column)\n",
    "            else:\n",
    "                continue\n",
    "        \n",
    "    nominal_data = nominal_data.drop(above_90, axis=1)\n",
    "\n",
    "    #Selecting only the dummy columns that have correlation more than 0.4 with the target column\n",
    "    nominal_dummies = pd.get_dummies(nominal_data)\n",
    "    nominal_dummies['SalePrice'] = numeric_data['SalePrice']\n",
    "    nom_corrs = nominal_dummies.corr()['SalePrice'].abs().sort_values(ascending=False)\n",
    "    noms_above_04 = nom_corrs[nom_corrs>0.4].drop('SalePrice')\n",
    "    nominal_features = nominal_dummies[noms_above_04.index]\n",
    "    \n",
    "    selected_features = pd.concat([numeric_features, nominal_features], axis=1)\n",
    "    return selected_features\n",
    "\n",
    "def train_and_test(df):\n",
    "    \"\"\"\n",
    "    Trains a model using all numerical columns except the SalePrice column (the target column) from the data frame returned from select_features()\n",
    "    Tests the model on the test set and returns the RMSE value\n",
    "    \"\"\"\n",
    "    train = df[:1460]\n",
    "    test = df[1460:]\n",
    "    numerical_cols = list(train.select_dtypes(include='int').columns)\n",
    "    numerical_cols.remove('SalePrice')\n",
    "    target = 'SalePrice'\n",
    "    lr = LinearRegression()\n",
    "    lr.fit(train[numerical_cols], train[target])\n",
    "    predictions = lr.predict(test[numerical_cols])\n",
    "    rmse = np.sqrt(mean_squared_error(test[target], predictions))\n",
    "    return rmse\n",
    "\n",
    "new_data = data.copy()\n",
    "transform_df = transform_features(new_data)\n",
    "filtered_df = select_features(transform_df)\n",
    "rmse = train_and_test(filtered_df)\n",
    "print(\"Root Square Error: \", rmse)"
   ]
  },
  {
   "cell_type": "markdown",
   "metadata": {},
   "source": [
    "## Training and Testing \n",
    "\n",
    "We managed to lower the error by 17 points thanks to feature selection. Let us now proceed to configure the training and testing function. We will upgrade it to use k-fold cross validation."
   ]
  },
  {
   "cell_type": "code",
   "execution_count": 252,
   "metadata": {},
   "outputs": [
    {
     "name": "stdout",
     "output_type": "stream",
     "text": [
      "<class 'pandas.core.frame.DataFrame'>\n",
      "Int64Index: 2927 entries, 0 to 2929\n",
      "Data columns (total 20 columns):\n",
      " #   Column             Non-Null Count  Dtype  \n",
      "---  ------             --------------  -----  \n",
      " 0   SalePrice          2927 non-null   int64  \n",
      " 1   Overall Qual       2927 non-null   int64  \n",
      " 2   Gr Liv Area        2927 non-null   int64  \n",
      " 3   Garage Cars        2927 non-null   float64\n",
      " 4   Total Bsmt SF      2927 non-null   float64\n",
      " 5   years_until_sold   2927 non-null   int64  \n",
      " 6   Full Bath          2927 non-null   int64  \n",
      " 7   years_since_remod  2927 non-null   int64  \n",
      " 8   Mas Vnr Area       2927 non-null   float64\n",
      " 9   Fireplaces         2927 non-null   int64  \n",
      " 10  BsmtFin SF 1       2927 non-null   float64\n",
      " 11  Bsmt Qual_Ex       2927 non-null   uint8  \n",
      " 12  Exter Qual_TA      2927 non-null   uint8  \n",
      " 13  Kitchen Qual_Ex    2927 non-null   uint8  \n",
      " 14  Kitchen Qual_TA    2927 non-null   uint8  \n",
      " 15  Foundation_PConc   2927 non-null   uint8  \n",
      " 16  Bsmt Qual_TA       2927 non-null   uint8  \n",
      " 17  Exter Qual_Ex      2927 non-null   uint8  \n",
      " 18  Heating QC_Ex      2927 non-null   uint8  \n",
      " 19  Exter Qual_Gd      2927 non-null   uint8  \n",
      "dtypes: float64(4), int64(7), uint8(9)\n",
      "memory usage: 300.1 KB\n"
     ]
    }
   ],
   "source": [
    "nominal_features = nominal_dummies[noms_above_04.index].drop('SalePrice', axis=1)\n",
    "selected_data = pd.concat([numeric_features, nominal_features], axis=1)\n",
    "features = selected_data.drop('SalePrice', axis=1)\n",
    "features = features.columns\n",
    "target = 'SalePrice'\n",
    "selected_data.info()"
   ]
  },
  {
   "cell_type": "markdown",
   "metadata": {},
   "source": [
    "The train_and_test finction will have an optional k parameter. If k = 0 it will perform a simple holdout validation without shuffling the dataset. If k=1, it will shuffle the dataset and perform a simple cross validation. If k > 1 it will perform a cross validation with amount of folds = k.  "
   ]
  },
  {
   "cell_type": "code",
   "execution_count": 253,
   "metadata": {},
   "outputs": [
    {
     "name": "stdout",
     "output_type": "stream",
     "text": [
      "Root Squared Error:  33571.23608569663\n"
     ]
    }
   ],
   "source": [
    "k=0\n",
    "train = selected_data[:1460]\n",
    "test = selected_data[1460:]\n",
    "lr = LinearRegression()\n",
    "lr.fit(train[features], train[target])\n",
    "predictions = lr.predict(test[features])\n",
    "rmse = np.sqrt(mean_squared_error(test[target], predictions))\n",
    "print(\"Root Squared Error: \",rmse)"
   ]
  },
  {
   "cell_type": "code",
   "execution_count": 257,
   "metadata": {},
   "outputs": [
    {
     "name": "stdout",
     "output_type": "stream",
     "text": [
      "Average Root Square Error:  29862.926269965494\n"
     ]
    }
   ],
   "source": [
    "k=1\n",
    "shuffled= selected_data.sample(frac=1, random_state=1)\n",
    "fold_one = shuffled[:1460]\n",
    "fold_two = shuffled[1460:]\n",
    "lr.fit(fold_one[features], fold_one[target])\n",
    "predictions_1 = lr.predict(fold_two[features])\n",
    "rmse_1 = np.sqrt(mean_squared_error(fold_two[target], predictions_1))\n",
    "\n",
    "lr.fit(fold_two[features], fold_two[target])\n",
    "predictions_2 = lr.predict(fold_one[features])\n",
    "rmse_2 = np.sqrt(mean_squared_error(fold_one[target], predictions_2))\n",
    "print(\"Average Root Square Error: \", np.mean([rmse_1, rmse_2]))"
   ]
  },
  {
   "cell_type": "code",
   "execution_count": 259,
   "metadata": {},
   "outputs": [
    {
     "data": {
      "text/plain": [
       "29491.058768330404"
      ]
     },
     "execution_count": 259,
     "metadata": {},
     "output_type": "execute_result"
    }
   ],
   "source": [
    "fold=4\n",
    "kf = KFold(fold, shuffle=True, random_state=1)\n",
    "model = LinearRegression()\n",
    "mses = cross_val_score(model, selected_data[features], selected_data[target], scoring=\"neg_mean_squared_error\", cv=kf)\n",
    "rmses = np.sqrt(np.absolute(mses))\n",
    "avg_rmse = np.mean(rmses)\n",
    "avg_rmse"
   ]
  },
  {
   "cell_type": "markdown",
   "metadata": {},
   "source": [
    "We will now update the `test_and_train` function in our pipeline."
   ]
  },
  {
   "cell_type": "code",
   "execution_count": 280,
   "metadata": {},
   "outputs": [
    {
     "name": "stdout",
     "output_type": "stream",
     "text": [
      "Average Root Square Error (K=(0):  33571.23608569663\n",
      "Average Root Square Error (K=10):  29116.02189814498\n",
      "Average Root Square Error (K=20):  28530.176331172046\n"
     ]
    }
   ],
   "source": [
    "def transform_features(df):\n",
    "    \"\"\"\n",
    "    Returns clean dataframe without missing values \n",
    "    \"\"\"\n",
    "    new_df = df.copy()\n",
    "    #Removing columns with more than 5% missing values\n",
    "    data_nulls = new_df.isnull().sum()\n",
    "    cols_to_remove = data_nulls[data_nulls>=len(new_df)*0.05].index\n",
    "    new_df = new_df.drop(cols_to_remove, axis=1)\n",
    "    \n",
    "    #In columns with less than 5% missing data, fill the missing data with the column's mode\n",
    "    data_nulls = new_df.isnull().sum()\n",
    "    selected_cols = data_nulls[(data_nulls < len(new_df)*0.05)&(data_nulls>0)].index\n",
    "    modes = new_df[selected_cols].mode().to_dict(orient='records')[0]\n",
    "    new_df = new_df.fillna(modes)\n",
    "    \n",
    "    #Make new informative columns\n",
    "    new_df['years_since_remod'] = new_df['Yr Sold'] - new_df['Year Remod/Add']\n",
    "    new_df['years_until_sold'] = new_df['Yr Sold'] - new_df['Year Built']\n",
    "\n",
    "    #Drop columns that have negative values in these columns\n",
    "    new_df = new_df.drop([1702, 2180, 2181], axis=0)\n",
    "\n",
    "    #Drop columns that aren't useful for ML or leak information about the sale\n",
    "    new_df = new_df.drop(['PID', 'Order', 'Mo Sold', 'Sale Condition', 'Sale Type', 'Yr Sold', 'Year Remod/Add', 'Year Built'], axis=1)\n",
    "\n",
    "    return new_df\n",
    "\n",
    "def select_features(df):\n",
    "    \"\"\"\n",
    "    Selects and returns a reduced DataFrame with only the necessary feature columns \n",
    "    from the transformed data frame\n",
    "    \"\"\"\n",
    "    #Selecting numeric columns with more than 0.4 correlation coefficient\n",
    "    numeric_features = df.select_dtypes(include=['integer', 'float'])\n",
    "    corrs = numeric_features.corr()\n",
    "    price_corrs = corrs['SalePrice'].abs().sort_values(ascending=False)\n",
    "    corrs_above_04 = price_corrs[price_corrs>0.4]\n",
    "    numeric_features = numeric_features[corrs_above_04.index]\n",
    "\n",
    "    #Dropping columns that have collinearity with other features\n",
    "    numeric_features = numeric_features.drop(['Garage Area', '1st Flr SF', 'TotRms AbvGrd'], axis=1)\n",
    "\n",
    "    #Dropping the text columns that have too many categories (more than 10)\n",
    "    nominal_data = df.select_dtypes(include='object')\n",
    "    categorical = []\n",
    "    not_categorical = []\n",
    "    for column in nominal_data.columns:\n",
    "        num_unique = len(nominal_data[column].unique())\n",
    "        if num_unique > 10:\n",
    "            not_categorical.append(column)\n",
    "        elif num_unique <= 10:\n",
    "            categorical.append(column)\n",
    "    nominal_data = nominal_data[categorical]\n",
    "\n",
    "    #Dropping the text columns that have more than 90% of the same value\n",
    "    above_90 = []\n",
    "    for column in nominal_data:\n",
    "        counts = nominal_data[column].value_counts(normalize=True)\n",
    "        for value in counts:\n",
    "            if value >= 0.90:\n",
    "                above_90.append(column)\n",
    "            else:\n",
    "                continue\n",
    "        \n",
    "    nominal_data = nominal_data.drop(above_90, axis=1)\n",
    "\n",
    "    #Selecting only the dummy columns that have correlation more than 0.4 with the target column\n",
    "    nominal_dummies = pd.get_dummies(nominal_data)\n",
    "    nominal_dummies['SalePrice'] = numeric_data['SalePrice']\n",
    "    nom_corrs = nominal_dummies.corr()['SalePrice'].abs().sort_values(ascending=False)\n",
    "    noms_above_04 = nom_corrs[nom_corrs>0.4].drop('SalePrice')\n",
    "    nominal_features = nominal_dummies[noms_above_04.index]\n",
    "    \n",
    "    selected_features = pd.concat([numeric_features, nominal_features], axis=1)\n",
    "    return selected_features\n",
    "\n",
    "def train_and_test(df, k=0):\n",
    "    \"\"\"\n",
    "    Trains a Linear Regression model on given DataFrame using k amount of folds for cross-validation\n",
    "    k is optional, deafult value is 0.\n",
    "    \"\"\"\n",
    "    lr = LinearRegression()\n",
    "    features = df.drop('SalePrice', axis=1)\n",
    "    features = features.columns\n",
    "    target = 'SalePrice'\n",
    "    \n",
    "    if k == 0:\n",
    "        train = df[:1460]\n",
    "        test = df[1460:]\n",
    "        lr.fit(train[features], train[target])\n",
    "        predictions = lr.predict(test[features])\n",
    "        rmse = np.sqrt(mean_squared_error(test[target], predictions))\n",
    "        return rmse\n",
    "    if k == 1:\n",
    "        shuffled= df.sample(frac=1, random_state=1)\n",
    "        fold_one = shuffled[:1460]\n",
    "        fold_two = shuffled[1460:]\n",
    "        lr.fit(fold_one[features], fold_one[target])\n",
    "        predictions_1 = lr.predict(fold_two[features])\n",
    "        rmse_1 = np.sqrt(mean_squared_error(fold_two[target], predictions_1))\n",
    "\n",
    "        lr.fit(fold_two[features], fold_two[target])\n",
    "        predictions_2 = lr.predict(fold_one[features])\n",
    "        rmse_2 = np.sqrt(mean_squared_error(fold_one[target], predictions_2))\n",
    "        return np.mean([rmse_1, rmse_2])\n",
    "    if k > 1:\n",
    "        kf = KFold(k, shuffle=True, random_state=1)\n",
    "        mses = cross_val_score(model, df[features], df[target], scoring=\"neg_mean_squared_error\", cv=kf)\n",
    "        rmses = np.sqrt(np.absolute(mses))\n",
    "        return np.mean(rmses)\n",
    "\n",
    "new_data = data.copy()\n",
    "transform_df = transform_features(new_data)\n",
    "filtered_df = select_features(transform_df)\n",
    "rmse_0 = train_and_test(filtered_df)\n",
    "print(\"Average Root Square Error (K=(0): \", rmse_0)\n",
    "\n",
    "rmse_10 = train_and_test(filtered_df, k=10)\n",
    "print(\"Average Root Square Error (K=10): \", rmse_10)\n",
    "\n",
    "rmse_20 = train_and_test(filtered_df, k=20)\n",
    "print(\"Average Root Square Error (K=20): \", rmse_20)\n"
   ]
  }
 ],
 "metadata": {
  "anaconda-cloud": {},
  "kernelspec": {
   "display_name": "Python 3",
   "language": "python",
   "name": "python3"
  },
  "language_info": {
   "codemirror_mode": {
    "name": "ipython",
    "version": 3
   },
   "file_extension": ".py",
   "mimetype": "text/x-python",
   "name": "python",
   "nbconvert_exporter": "python",
   "pygments_lexer": "ipython3",
   "version": "3.9.7"
  }
 },
 "nbformat": 4,
 "nbformat_minor": 2
}
